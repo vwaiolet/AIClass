{
 "cells": [
  {
   "cell_type": "code",
   "execution_count": null,
   "id": "a884f48b",
   "metadata": {},
   "outputs": [],
   "source": [
    "!conda install --y openpyxl"
   ]
  },
  {
   "cell_type": "code",
   "execution_count": null,
   "id": "a4ccbd09",
   "metadata": {},
   "outputs": [],
   "source": [
    "import pandas as pd # pandas 모듈 호출\n",
    "import numpy as np # numpy 모듈 호출\n",
    "df = pd.read_excel(\"./ch04/excel-comp-data.xlsx\")"
   ]
  },
  {
   "cell_type": "code",
   "execution_count": null,
   "id": "c0cda977",
   "metadata": {},
   "outputs": [],
   "source": [
    "df.head(5)"
   ]
  },
  {
   "cell_type": "code",
   "execution_count": null,
   "id": "1e79182e",
   "metadata": {},
   "outputs": [],
   "source": [
    "df.head(3).T"
   ]
  },
  {
   "cell_type": "code",
   "execution_count": null,
   "id": "87cdccc3",
   "metadata": {},
   "outputs": [],
   "source": [
    "df[[\"account\", \"street\", \"state\"]].head(3)"
   ]
  },
  {
   "cell_type": "code",
   "execution_count": null,
   "id": "74e22c8a",
   "metadata": {},
   "outputs": [],
   "source": [
    "df[:3]"
   ]
  },
  {
   "cell_type": "code",
   "execution_count": null,
   "id": "ad25362a",
   "metadata": {},
   "outputs": [],
   "source": [
    "df[[\"name\",\"street\"]][:2]"
   ]
  },
  {
   "cell_type": "code",
   "execution_count": null,
   "id": "5dbe76d6",
   "metadata": {},
   "outputs": [],
   "source": [
    "df.index = df[\"account\"]\n",
    "del df[\"account\"]\n",
    "df.head()"
   ]
  },
  {
   "cell_type": "code",
   "execution_count": null,
   "id": "ab02afae",
   "metadata": {},
   "outputs": [],
   "source": [
    "df.loc[[211829,320563],[\"name\",\"street\"]]"
   ]
  },
  {
   "cell_type": "code",
   "execution_count": null,
   "id": "0c3c3c90",
   "metadata": {},
   "outputs": [],
   "source": [
    "df.loc[205217:,[\"name\",\"street\"]]"
   ]
  },
  {
   "cell_type": "code",
   "execution_count": null,
   "id": "8ec234fa",
   "metadata": {},
   "outputs": [],
   "source": [
    "df.iloc[:10, :3]"
   ]
  },
  {
   "cell_type": "code",
   "execution_count": null,
   "id": "aad3ed26",
   "metadata": {},
   "outputs": [],
   "source": [
    "df_new = df.reset_index()\n",
    "df_new"
   ]
  },
  {
   "cell_type": "code",
   "execution_count": null,
   "id": "c3769148",
   "metadata": {},
   "outputs": [],
   "source": [
    "df_new.drop(1).head()"
   ]
  },
  {
   "cell_type": "code",
   "execution_count": null,
   "id": "5ecaa83b",
   "metadata": {},
   "outputs": [],
   "source": [
    "df_drop = df_new.drop(1)"
   ]
  },
  {
   "cell_type": "code",
   "execution_count": null,
   "id": "8dfbfb8f",
   "metadata": {},
   "outputs": [],
   "source": [
    "df_new.drop(1, inplace=True)"
   ]
  },
  {
   "cell_type": "code",
   "execution_count": null,
   "id": "113314f7",
   "metadata": {},
   "outputs": [],
   "source": [
    "df_new.drop(\"account\", axis=1) # account 열 제거\n",
    "df_new.drop([\"account\", \"name\"], axis=1) # account, name 열 제거"
   ]
  },
  {
   "cell_type": "code",
   "execution_count": 68,
   "id": "6bf8b37b",
   "metadata": {},
   "outputs": [
    {
     "name": "stdout",
     "output_type": "stream",
     "text": [
      "      A     B   C\n",
      "0  15.0  11.0 NaN\n",
      "1  13.0  16.0 NaN\n",
      "2   NaN   NaN NaN\n",
      "   A  B\n",
      "0  6  5\n",
      "1  9  8\n",
      "   B  A  C\n",
      "0  6  9  5\n",
      "1  8  4  4\n",
      "2  4  3  0\n"
     ]
    }
   ],
   "source": [
    "import pandas as pd\n",
    "import numpy as np\n",
    "\n",
    "rng = np.random.RandomState(1358)\n",
    "df = pd.DataFrame(rng.randint(0, 10, (2, 2)), columns=['A', 'B'], dtype=int)\n",
    "\n",
    "df1 = pd.DataFrame(rng.randint(0, 10, (3, 3)), columns=['B', 'A', 'C'], dtype=int)\n",
    "\n",
    "sum = df + df1\n",
    "print(sum)\n",
    "print(df)\n",
    "print(df1)"
   ]
  }
 ],
 "metadata": {
  "kernelspec": {
   "display_name": "Python 3 (ipykernel)",
   "language": "python",
   "name": "python3"
  },
  "language_info": {
   "codemirror_mode": {
    "name": "ipython",
    "version": 3
   },
   "file_extension": ".py",
   "mimetype": "text/x-python",
   "name": "python",
   "nbconvert_exporter": "python",
   "pygments_lexer": "ipython3",
   "version": "3.10.10"
  }
 },
 "nbformat": 4,
 "nbformat_minor": 5
}
