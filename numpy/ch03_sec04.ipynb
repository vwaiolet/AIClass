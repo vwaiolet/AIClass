{
 "cells": [
  {
   "cell_type": "code",
   "execution_count": null,
   "id": "42dde2fc",
   "metadata": {},
   "outputs": [],
   "source": [
    "import numpy as np\n",
    "x = np.array([4, 3, 2, 6, 8, 5])\n",
    "x > 3"
   ]
  },
  {
   "cell_type": "code",
   "execution_count": null,
   "id": "16cd8c54",
   "metadata": {},
   "outputs": [],
   "source": [
    "x = np.array([1, 3, 0])\n",
    "y = np.array([2, 1, 7])\n",
    "x > y"
   ]
  },
  {
   "cell_type": "code",
   "execution_count": null,
   "id": "606d7f88",
   "metadata": {},
   "outputs": [],
   "source": [
    "x = np.array([4, 6, 7, 3, 2])\n",
    "(x > 3)"
   ]
  },
  {
   "cell_type": "code",
   "execution_count": null,
   "id": "3c52e4b4",
   "metadata": {},
   "outputs": [],
   "source": [
    "(x > 3).all()"
   ]
  },
  {
   "cell_type": "code",
   "execution_count": null,
   "id": "12393f62",
   "metadata": {},
   "outputs": [],
   "source": [
    "(x > 3).any()"
   ]
  },
  {
   "cell_type": "code",
   "execution_count": null,
   "id": "44176e3c",
   "metadata": {},
   "outputs": [],
   "source": [
    "(x < 10).any()"
   ]
  },
  {
   "cell_type": "code",
   "execution_count": null,
   "id": "9815a247",
   "metadata": {},
   "outputs": [],
   "source": [
    "(x < 10).all()"
   ]
  },
  {
   "cell_type": "code",
   "execution_count": null,
   "id": "3b80a840",
   "metadata": {},
   "outputs": [],
   "source": [
    "(x > 10).any()"
   ]
  },
  {
   "cell_type": "code",
   "execution_count": 28,
   "id": "bad10a06",
   "metadata": {},
   "outputs": [
    {
     "data": {
      "text/plain": [
       "array([False,  True,  True, False, False])"
      ]
     },
     "execution_count": 28,
     "metadata": {},
     "output_type": "execute_result"
    }
   ],
   "source": [
    "x = np.array([4, 6, 7, 3, 2])\n",
    "x > 5"
   ]
  },
  {
   "cell_type": "code",
   "execution_count": 29,
   "id": "2362e81b",
   "metadata": {},
   "outputs": [
    {
     "data": {
      "text/plain": [
       "(array([1, 2], dtype=int64),)"
      ]
     },
     "execution_count": 29,
     "metadata": {},
     "output_type": "execute_result"
    }
   ],
   "source": [
    "np.where(x>5)"
   ]
  },
  {
   "cell_type": "code",
   "execution_count": null,
   "id": "fcab2235",
   "metadata": {},
   "outputs": [],
   "source": [
    "x = np.array([4, 6, 7, 3, 2])\n",
    "np.where(x>5 , 10, 20)"
   ]
  },
  {
   "cell_type": "code",
   "execution_count": null,
   "id": "82dba256",
   "metadata": {},
   "outputs": [],
   "source": [
    "x = np.array([4, 6, 7, 3, 2])\n",
    "np.argsort(x)"
   ]
  },
  {
   "cell_type": "code",
   "execution_count": null,
   "id": "600577d2",
   "metadata": {},
   "outputs": [],
   "source": [
    "np.argmax(x)"
   ]
  },
  {
   "cell_type": "code",
   "execution_count": null,
   "id": "5be1bd70",
   "metadata": {},
   "outputs": [],
   "source": [
    "np.argmin(x)"
   ]
  },
  {
   "cell_type": "code",
   "execution_count": 30,
   "id": "7aecfcfd",
   "metadata": {},
   "outputs": [
    {
     "data": {
      "text/plain": [
       "array([ True,  True,  True, False, False])"
      ]
     },
     "execution_count": 30,
     "metadata": {},
     "output_type": "execute_result"
    }
   ],
   "source": [
    "x = np.array([4, 6, 7, 3, 2])\n",
    "x > 3"
   ]
  },
  {
   "cell_type": "code",
   "execution_count": 31,
   "id": "00f52a7e",
   "metadata": {},
   "outputs": [
    {
     "data": {
      "text/plain": [
       "array([4, 6, 7])"
      ]
     },
     "execution_count": 31,
     "metadata": {},
     "output_type": "execute_result"
    }
   ],
   "source": [
    "cond = x > 3\n",
    "x[cond]"
   ]
  },
  {
   "cell_type": "code",
   "execution_count": null,
   "id": "0875be0a",
   "metadata": {},
   "outputs": [],
   "source": [
    "x.shape"
   ]
  },
  {
   "cell_type": "code",
   "execution_count": null,
   "id": "5b85661b",
   "metadata": {},
   "outputs": [],
   "source": [
    "cond.shape"
   ]
  },
  {
   "cell_type": "code",
   "execution_count": null,
   "id": "297a12e1",
   "metadata": {},
   "outputs": [],
   "source": [
    "x = np.array([4, 6, 7, 3, 2])\n",
    "cond = np.array([1, 2, 0, 2, 2, 2,], int)\n",
    "x[cond]"
   ]
  },
  {
   "cell_type": "code",
   "execution_count": null,
   "id": "dcb71772",
   "metadata": {},
   "outputs": [],
   "source": [
    "x.take(cond)"
   ]
  },
  {
   "cell_type": "code",
   "execution_count": 32,
   "id": "e501e9d2",
   "metadata": {},
   "outputs": [
    {
     "data": {
      "text/plain": [
       "array([ 1,  9,  9, 16,  4,  4])"
      ]
     },
     "execution_count": 32,
     "metadata": {},
     "output_type": "execute_result"
    }
   ],
   "source": [
    "x = np.array([[1,4], [9,16]], int)\n",
    "a = np.array([0, 1, 1, 1, 0, 0], int)\n",
    "b = np.array([0, 0, 0, 1, 1, 1], int)\n",
    "x[a,b]"
   ]
  },
  {
   "cell_type": "code",
   "execution_count": 33,
   "id": "b654c481",
   "metadata": {},
   "outputs": [
    {
     "data": {
      "text/plain": [
       "array([[ 0,  1,  2,  3],\n",
       "       [ 4,  5,  6,  7],\n",
       "       [ 8,  9, 10, 11]])"
      ]
     },
     "execution_count": 33,
     "metadata": {},
     "output_type": "execute_result"
    }
   ],
   "source": [
    "x = np.arange(12).reshape(3, 4)"
   ]
  }
 ],
 "metadata": {
  "kernelspec": {
   "display_name": "Python 3 (ipykernel)",
   "language": "python",
   "name": "python3"
  },
  "language_info": {
   "codemirror_mode": {
    "name": "ipython",
    "version": 3
   },
   "file_extension": ".py",
   "mimetype": "text/x-python",
   "name": "python",
   "nbconvert_exporter": "python",
   "pygments_lexer": "ipython3",
   "version": "3.10.10"
  }
 },
 "nbformat": 4,
 "nbformat_minor": 5
}
